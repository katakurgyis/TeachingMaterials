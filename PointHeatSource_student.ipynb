{
 "cells": [
  {
   "cell_type": "raw",
   "metadata": {},
   "source": [
    "author = \"Jörg Buchwald and Kata Kurgyis\"\n",
    "date = \"2022-11-02\"\n",
    "title = \"Consolidation around a point heat source in fully saturated medium\"\n",
    "weight = 70\n",
    "notebook = \"Notebooks/SaturatedPointHeatSource.ipynb\"\n",
    "web_subsection = \"thermo-hydro-mechanics\"\n",
    "<!--eofm-->"
   ]
  },
  {
   "cell_type": "markdown",
   "metadata": {
    "tags": []
   },
   "source": [
    "## Problem description\n",
    "\n",
    "The problem describes a heat source embedded in a fully fluid-saturated porous medium.\n",
    "The spherical symmetry is modeled using a 10 m x 10 m disc with a point heat source ($Q=150\\;\\mathrm{W}$) placed at one corner ($r=0$) and a curved boundary at $r=10\\;\\mathrm{m}$. Applying rotational axial symmetry at one of the linear boundaries, the model region transforms into a half-space configuration of the spherical symmetrical problem.\n",
    "The initial temperature and the pore pressure are 273.15 K and 0 Pa, respectively.\n",
    "The axis-normal displacements along the symmetry (inner) boundaries were set to zero, whereas the pore pressure, as well as the temperature, are set to their initial values along the outer (curved) boundary.\n",
    "The heat coming from the point source is propagated through the medium, causing the fluid and the solid to expand at different rates.\n",
    "The resulting pore pressure (gradient) is triggering a thermally driven consolidation process caused by the fluid flow away from the heat source until equilibrium is reached.\n",
    "\n",
    "![PointHeatSourceSchematic.png](PointHeatSourceSchematic.png)"
   ]
  },
  {
   "cell_type": "markdown",
   "metadata": {},
   "source": [
    "# Governing equations\n",
    "\n",
    "For this problem we consider the following assumptions:\n",
    "\n",
    "* No thermal adverction is considered: $\\rho_\\text{w}c_\\text{w}T_{,\\,i} v_i = 0$.\n",
    "\n",
    "* Gravitational forces are neglected: $\\rho g = 0$.\n",
    "\n",
    "* Both fluid and solid phases are intrinsically incompressible: $\\alpha_B = 1$; $\\beta = 0$.\n",
    "\n",
    "* No external fluid sink or source term: $q_H = 0$.\n",
    "\n",
    "* The porous medium is isotropic and homogeneous.\n",
    "\n",
    "These assumptions lead to the following set of governing equation describing the system behavior:\n",
    "\n",
    "**Energy balance**\n",
    "\\begin{equation}\n",
    "    m \\dot T- \\left(K T_{,\\,i}\\right)_{,\\,i} = q_T \n",
    "\\end{equation}\n",
    "\n",
    "\\begin{align}\n",
    " where\n",
    "\\end{align}\n",
    "\n",
    "\\begin{equation}\n",
    "    m = \\phi \\rho_\\text{w} c_\\text{w} + \\left(1-\\phi\\right) \\rho_\\text{s} c_\\text{s}\n",
    "\\end{equation}\n",
    "\n",
    "\\begin{equation}\n",
    "    K = \\phi K_\\text{w}+\\left(1-\\phi\\right)K_\\text{s}\n",
    "\\end{equation}\n",
    "\n",
    "\\begin{equation}\\label{eq:darcy}\n",
    "    v_i = -\\dfrac{k_\\text{s}}{\\eta}\\left(p_{,\\,i}\\right)\n",
    "\\end{equation}\n",
    "\n",
    "**Mass balance**\n",
    "\\begin{equation}\n",
    "    - a_\\text{u}\\dot T+ \\dot u_{i,\\,i} + v_{i,\\,i} = 0\n",
    "\\end{equation}\n",
    "\n",
    "\\begin{align}\n",
    " where\n",
    "\\end{align}\n",
    " \n",
    "\\begin{equation}\n",
    "    a_\\text{u} = \\phi a_\\text{w} +\\left(1-\\phi\\right) a_\\text{s}\n",
    "\\end{equation}\n",
    "\n",
    "**Momentum balance**\n",
    "\\begin{equation}\n",
    "    \\sigma_{ij} = \\sigma^{\\prime}_{ij}- p \\delta_{ij} = 0\n",
    "\\end{equation}\n",
    "\n",
    "A detailed description about the problem formulation and equation derivation can be found in the original work of Booker and Savvidou (1985) or Chaudhry et al. (2019).\n",
    "\n",
    "## Input parameters\n",
    "\n",
    "We considered the following set of values as input parameters:\n",
    "\n",
    "![PointHeatSourceInput.png](PointHeatSourceInput.png)\n"
   ]
  },
  {
   "cell_type": "markdown",
   "metadata": {},
   "source": [
    "# The analytical solution\n",
    "\n",
    "\n",
    "The analytical solution of the coupled THM consolidation problem is derived in the original work of Booker and Savvidou (1985). In Chaudhry et al. (2019), a corrected solution is given for the effective stress term.\n",
    "\n",
    "For clarification, the equations below are based on the solid mechanics sign convention (tensile stress is positive). Furthermore, temporal partial derivative is indicated by the dot convention, while spatial partial derivatives are expressed by the comma convention, i.e. $(\\cdot)_{,\\,i}=\\partial (\\cdot)/\\partial x_i$.\n",
    "\n",
    "The analytical solution for the three primary variables are expressed as:\n",
    "\n",
    "**Temperature**\n",
    "\\begin{equation}\n",
    "    \\Delta T = \\dfrac{Q}{4\\pi Kr}f^{\\kappa}\n",
    "\\end{equation}\n",
    "\n",
    "**Pore pressure**\n",
    "\\begin{equation}\n",
    "    p = \\dfrac{X\\,Q}{\\left(1-\\dfrac{c}{\\kappa}\\right)4\\pi Kr}\\left(f^{\\kappa}-f^{c}\\right)\n",
    "\\end{equation}\n",
    "\n",
    "**Displacement of the solid skeleton**\n",
    "\\begin{equation}\n",
    "    u_{i} = \\dfrac{Q a_\\text{u}x_{i}}{4\\pi Kr}\\;g^{\\ast}\n",
    "\\end{equation}\n",
    "\n",
    "In the above equations, the following derived parameters are used:\n",
    "\n",
    "\\begin{equation}\n",
    "    \\kappa = \\dfrac{K}{m}\n",
    "\\end{equation}\n",
    "\n",
    "\\begin{equation}\\label{eq:consolidation}\n",
    "    c = \\dfrac{k_\\text{s}}{\\eta}\\left(\\lambda + 2G\\right)\n",
    "\\end{equation}\n",
    "\n",
    "\\begin{equation}\n",
    "    r =\\sqrt{x_{1}^{2}+x_{2}^{2}+x_{3}^{2}}\n",
    "\\end{equation}\n",
    "\n",
    "\\begin{equation}\n",
    "    X = a_\\text{u}\\left(\\lambda+2G\\right)-b^{\\prime}\n",
    "\\end{equation}\n",
    "\n",
    "\\begin{equation}\n",
    "    Y = \\dfrac{1}{\\lambda+2G}\\left(\\dfrac{X}{\\left(1-\\dfrac{c}{\\kappa}\\right)a_\\text{u}}+\\dfrac{b^{\\prime}}{a_\\text{u}}\\right)\n",
    "\\end{equation}\n",
    "\n",
    "\\begin{equation}\n",
    "    Z = \\dfrac{1}{\\lambda+2G}\\left(\\dfrac{X}{\\left(1-\\dfrac{c}{\\kappa}\\right)a_\\text{u}}\\right)\n",
    "\\end{equation}\n",
    "\n",
    "\\begin{equation}\n",
    "    f^{A}=\\text{erfc}\\left(\\dfrac{r}{2\\sqrt{At}}\\right),\\quad A=\\kappa,c\n",
    "\\end{equation}\n",
    "\n",
    "\\begin{equation}\n",
    "    g^{A}=\\dfrac{At}{r^{2}}+\\left(\\frac{1}{2}-\\dfrac{At}{r^{2}}\\right)f^{A}-\\sqrt{\\dfrac{At}{\\pi r^{2}}} \\exp\\left(-\\dfrac{r^{2}}{4At}\\right)\n",
    "\\end{equation}\n",
    "\n",
    "\\begin{equation}\n",
    "    g^{\\ast} = Yg^{\\kappa}-Zg^{c}\n",
    "\\end{equation}\n",
    "\n",
    "\\begin{equation}\n",
    "    g^{A}_{,\\,i}= \\dfrac{2x_{i}At}{r^{4}}\\left(f^{A}-1+\\dfrac{r}{\\sqrt{\\pi At}}\\exp\\left(-\\dfrac{r^{2}}{4At}\\right)\\right),\\quad i=1,2,3\n",
    "\\end{equation}\n",
    "\n",
    "\\begin{equation}\n",
    "    g^{\\ast}_{,\\,i} = Yg^{\\kappa}_{,\\,i}-Zg^{c}_{,\\,i}\n",
    "\\end{equation}\n",
    "\n",
    "The corrected form of the effective stress:\n",
    "\n",
    "\\begin{equation}\n",
    "    \\sigma^{\\prime}_{ij\\,|\\,j=i} = \\dfrac{Q a_\\text{u}}{4\\pi Kr}\\left( 2G\\left[g^{\\ast}\\left(1-\\dfrac{x^{2}_{i}}{r^{2}}\\right)+x_{i}g^{\\ast}_{,\\,i}\\right]+\\lambda \\left[x_{i}g^{\\ast}_{,\\,i}+2g^{\\ast}\\right]\\right)-b^{\\prime}\\Delta T\n",
    "\\end{equation}\n",
    "\n",
    "\\begin{equation}\n",
    "    \\sigma^{\\prime}_{ij\\,|\\,j \\neq i} = \\dfrac{Q a_\\text{u}}{4\\pi Kr}\\left( G\\left[x_{i}g^{\\ast}_{,\\,j}+x_{j}g^{\\ast}_{,\\,i}-2g^{\\ast}\\dfrac{x_{i}x_{j}}{r^{2}}\\right]\\right)\n",
    "\\end{equation}"
   ]
  },
  {
   "cell_type": "code",
   "execution_count": 1,
   "metadata": {},
   "outputs": [],
   "source": [
    "#HIDDEN\n",
    "import numpy as np\n",
    "from scipy import special\n",
    "import matplotlib.pyplot as plt\n",
    "\n",
    "# ATTENTION!!\n",
    "# Conversion of linear expansivity value from OGS to volumetric value for the analytical solution:\n",
    "    # Analytical a_s (volumetric) = 3 * Numerical a_s (linear)\n",
    "\n",
    "# Correction for liquid expansivity considering a linear density model (instead of constand liquid density)\n",
    "# to account for the impact of compressibility and expansivity on the liquid density value:\n",
    "    # Analytical a_w = - Numerical [liquid density]/indepentendt_variable/slobe\n",
    "\n",
    "# The analytical model accounts for the entire spherical symmetrical problem, while the numerical one works with a quater circle\n",
    "    # Analytical Q = 2 * Numerical Q."
   ]
  },
  {
   "cell_type": "markdown",
   "metadata": {},
   "source": [
    "\n",
    "## The numerical solutions\n",
    "\n",
    "For the numerical solution we compare the Thermal-Hydro-Mechanical (THM - linear and quadratic mesh), Thermal-2-Phase-Hydro-Mechanical (TH2M) and Thermal-Richard-Mechanical (TRM - quadratic mesh) formulation of OGS.\n",
    "\n",
    "The main input file for the THM solution is `pointheatsource_linear-mesh.prj` and the main project file is `pointheatsource_linear.prj`.\n",
    "Geometry and mesh are stored in `quarter_circle_geometry.gml` and `quarter_002.vtu`.\n"
   ]
  },
  {
   "cell_type": "code",
   "execution_count": 2,
   "metadata": {},
   "outputs": [],
   "source": [
    "import os\n",
    "from ogs6py import ogs\n",
    "\n",
    "# 1. Set OGS data directory:\n",
    " # data_dir = os.environ.get('OGS_DATA_DIR', './Point_injection')\n",
    "# 2. Call input and project file:\n",
    " # ogs_model = ogs.OGS(INPUT_FILE=\"inputfile.prj\", PROJECT_FILE=f\"{data_dir}/filepath/projectfile.prj)\n",
    "\n",
    "# Here comes the THM formulation\n",
    "\n",
    "# Here comes the TRM formulation\n",
    "\n",
    "# Change simulation time: 5000000 s\n",
    " # ogs_model.replace_text(\"new value\", xpath=\"./time_loop/processes/process/time_stepping/t_end\")\n",
    "        "
   ]
  },
  {
   "cell_type": "code",
   "execution_count": 3,
   "metadata": {},
   "outputs": [],
   "source": [
    "# Here we write - ogs_model.write_input() -\n",
    "# and run - ogs_model.run_model() - theTHM formulation\n"
   ]
  },
  {
   "cell_type": "markdown",
   "metadata": {},
   "source": [
    "## Evaluation and Results\n",
    "\n",
    "The analytical expressions together with the numerical model can now be evaluated at different points as a function of time or for a given time as a function of their spatial coordinates."
   ]
  },
  {
   "cell_type": "code",
   "execution_count": 4,
   "metadata": {},
   "outputs": [],
   "source": [
    "#import vtuIO"
   ]
  },
  {
   "cell_type": "markdown",
   "metadata": {},
   "source": [
    "- point of interest"
   ]
  },
  {
   "cell_type": "code",
   "execution_count": 5,
   "metadata": {},
   "outputs": [],
   "source": [
    "pts = {\"pt0\": (0.5,0.5,0.0)}"
   ]
  },
  {
   "cell_type": "markdown",
   "metadata": {},
   "source": [
    "- time axis for analytical model"
   ]
  },
  {
   "cell_type": "code",
   "execution_count": 7,
   "metadata": {},
   "outputs": [],
   "source": [
    "import numpy as np\n",
    "t = np.linspace(1,50000*200,num=201, endpoint=True)\n"
   ]
  },
  {
   "cell_type": "code",
   "execution_count": 8,
   "metadata": {},
   "outputs": [],
   "source": [
    "# Read in pvd files\n",
    "#pvd_lin = vtuIO.PVDIO(\"pointheatsource_linear-mesh.pvd\", dim=2)\n",
    "#pvd_quad = vtuIO.PVDIO(\"pointheatsource_quadratic-mesh.pvd\", dim=2)"
   ]
  },
  {
   "cell_type": "markdown",
   "metadata": {},
   "source": [
    "### Time series plots for temperature, pressure and displacement"
   ]
  },
  {
   "cell_type": "code",
   "execution_count": 9,
   "metadata": {},
   "outputs": [],
   "source": [
    "import matplotlib.pyplot as plt\n",
    "plt.rcParams['figure.figsize'] = (12, 10)\n",
    "plt.rcParams['font.size'] =  22\n",
    "\n"
   ]
  },
  {
   "cell_type": "markdown",
   "metadata": {},
   "source": [
    "### Plots for temperature, pressure and displacement along the radial axis"
   ]
  },
  {
   "cell_type": "code",
   "execution_count": 10,
   "metadata": {},
   "outputs": [],
   "source": [
    "limits = {'x': {'temp': (0.0001,2.0), 'press': (0.0001,10.0), 'displ_x': (0.0001,10.0) },\n",
    "         'y': {'temp': (250.0, 400.0), 'press': (0.001,3.6e7), 'displ_x': (0.00,0.00035)}}"
   ]
  },
  {
   "cell_type": "code",
   "execution_count": 11,
   "metadata": {},
   "outputs": [],
   "source": [
    "x = np.linspace(start=0.0001, stop=10.0, num=100)\n",
    "r =  [(i,0,0) for i in x]\n",
    "t_i = 5.0e4"
   ]
  },
  {
   "cell_type": "code",
   "execution_count": 12,
   "metadata": {},
   "outputs": [],
   "source": [
    "import pyvista as pv\n",
    "pv.set_plot_theme(\"document\")\n",
    "pv.set_jupyter_backend(\"static\")\n",
    "\n",
    "pvd_file = f\"pointheatsource_linear-mesh.pvd\"\n",
    "reader = pv.get_reader(pvd_file)\n",
    "reader.set_active_time_value(t_i) # set reader to simulation end-time\n",
    "mesh = reader.read()[0]\n",
    "\n",
    "pt1 = (0.0001,0,0)\n",
    "pt2 = (10.0,0,0)\n",
    "xaxis = pv.Line(pt1, pt2, resolution=2)\n",
    "line_mesh= mesh.slice_along_line(xaxis)\n",
    "\n",
    "x_num = line_mesh.points[:,0]\n",
    "T_num = line_mesh.point_data[\"temperature\"]\n",
    "p_num = line_mesh.point_data[\"pressure\"]\n",
    "u_num = line_mesh.point_data[\"displacement\"]"
   ]
  },
  {
   "cell_type": "code",
   "execution_count": 14,
   "metadata": {},
   "outputs": [
    {
     "data": {
      "text/plain": [
       "Text(0.5, 1.0, 'temperature')"
      ]
     },
     "execution_count": 14,
     "metadata": {},
     "output_type": "execute_result"
    },
    {
     "data": {
      "image/png": "[encoded data removed]",
      "text/plain": [
       "<Figure size 864x720 with 1 Axes>"
      ]
     },
     "metadata": {
      "needs_background": "light"
     },
     "output_type": "display_data"
    }
   ],
   "source": [
    "#plt.plot(x,ana_model.temperature(x,0,0,t_i), label=\"analytical\")\n",
    "#plt.plot(x_num, T_num, 'r+', label=\"ogs6 linear mesh\")\n",
    "plt.xlim(limits['x']['temp'])\n",
    "plt.ylim(limits['y']['temp'])\n",
    "plt.xlabel(\"r / m\")\n",
    "plt.ylabel(\"T / K\")\n",
    "plt.legend()\n",
    "plt.title(\"temperature\")"
   ]
  },
  {
   "cell_type": "code",
   "execution_count": null,
   "metadata": {},
   "outputs": [],
   "source": [
    "#plt.plot(x,ana_model.porepressure(x,0,0,t_i), label=\"analytical\")\n",
    "#plt.plot(x, p_num, 'r+', label=\"OGS6 linear mesh\")\n",
    "plt.xlim(limits['x']['press'])\n",
    "plt.ylim(limits['y']['press'])\n",
    "plt.xlabel(\"r / m\")\n",
    "plt.ylabel(\"p / Pa\")\n",
    "plt.legend()\n",
    "plt.title(\"pressure\")"
   ]
  },
  {
   "cell_type": "code",
   "execution_count": null,
   "metadata": {},
   "outputs": [],
   "source": [
    "#plt.plot(x,ana_model.u_i(x,0,0,t_i, \"x\"), label=\"analytical\")\n",
    "#plt.plot(x, u_num, pointsetarray=r, data_type=\"point\")[:,0], 'r+', label=\"OGS6 linear mesh\")\n",
    "plt.xlim(limits['x']['displ_x'])\n",
    "plt.ylim(limits['y']['displ_x'])\n",
    "plt.xlabel(\"r / m\")\n",
    "plt.ylabel(\"$u_r$ / m\")\n",
    "plt.legend()\n",
    "plt.title(\"displacement\")"
   ]
  },
  {
   "cell_type": "markdown",
   "metadata": {},
   "source": [
    "## References\n",
    "\n",
    "[1] Booker, J. R.; Savvidou, C. (1985), Consolidation around a point heat source. International Journal for Numerical and Analytical Methods in Geomechanics, 1985, 9. Jg., Nr. 2, S. 173-184.\n",
    "\n",
    "[2] Chaudhry, A. A.; Buchwald, J.; Kolditz, O. and Nagel, T. (2019), Consolidation around a point heatsource (correction & verification). International Journal for Numerical and Analytical Methods in Geomechanics, 2019, <https://doi.org/10.1002/nag.2998>."
   ]
  },
  {
   "cell_type": "code",
   "execution_count": null,
   "metadata": {},
   "outputs": [],
   "source": []
  }
 ],
 "metadata": {
  "kernelspec": {
   "display_name": "Python 3 (ipykernel)",
   "language": "python",
   "name": "python3"
  },
  "language_info": {
   "codemirror_mode": {
    "name": "ipython",
    "version": 3
   },
   "file_extension": ".py",
   "mimetype": "text/x-python",
   "name": "python",
   "nbconvert_exporter": "python",
   "pygments_lexer": "ipython3",
   "version": "3.8.10"
  },
  "vscode": {
   "interpreter": {
    "hash": "b0fa6594d8f4cbf19f97940f81e996739fb7646882a419484c72d19e05852a7e"
   }
  }
 },
 "nbformat": 4,
 "nbformat_minor": 4
}
